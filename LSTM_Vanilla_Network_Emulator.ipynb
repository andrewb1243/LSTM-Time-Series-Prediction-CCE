{
  "nbformat": 4,
  "nbformat_minor": 0,
  "metadata": {
    "colab": {
      "provenance": [],
      "authorship_tag": "ABX9TyMNVZjGHCPeDFnSzajgixeo",
      "include_colab_link": true
    },
    "kernelspec": {
      "name": "python3",
      "display_name": "Python 3"
    },
    "language_info": {
      "name": "python"
    }
  },
  "cells": [
    {
      "cell_type": "markdown",
      "metadata": {
        "id": "view-in-github",
        "colab_type": "text"
      },
      "source": [
        "<a href=\"https://colab.research.google.com/github/andrewberryy/LSTM-Time-Series-Prediction-CCE/blob/main/LSTM_Vanilla_Network_Emulator.ipynb\" target=\"_parent\"><img src=\"https://colab.research.google.com/assets/colab-badge.svg\" alt=\"Open In Colab\"/></a>"
      ]
    },
    {
      "cell_type": "code",
      "execution_count": 1,
      "metadata": {
        "colab": {
          "base_uri": "https://localhost:8080/",
          "height": 206
        },
        "id": "GfwcLKL7b_VE",
        "outputId": "1c0c1d4a-aa53-4736-8310-55a281dbecc9"
      },
      "outputs": [
        {
          "output_type": "execute_result",
          "data": {
            "text/plain": [
              "   Time  Throughput\n",
              "0   5.0    0.018176\n",
              "1   5.5    0.055136\n",
              "2   6.0    0.038448\n",
              "3   6.5    0.025552\n",
              "4   7.0    0.012480"
            ],
            "text/html": [
              "\n",
              "  <div id=\"df-fecee5bb-6c2f-4f76-8020-b48a530f965e\">\n",
              "    <div class=\"colab-df-container\">\n",
              "      <div>\n",
              "<style scoped>\n",
              "    .dataframe tbody tr th:only-of-type {\n",
              "        vertical-align: middle;\n",
              "    }\n",
              "\n",
              "    .dataframe tbody tr th {\n",
              "        vertical-align: top;\n",
              "    }\n",
              "\n",
              "    .dataframe thead th {\n",
              "        text-align: right;\n",
              "    }\n",
              "</style>\n",
              "<table border=\"1\" class=\"dataframe\">\n",
              "  <thead>\n",
              "    <tr style=\"text-align: right;\">\n",
              "      <th></th>\n",
              "      <th>Time</th>\n",
              "      <th>Throughput</th>\n",
              "    </tr>\n",
              "  </thead>\n",
              "  <tbody>\n",
              "    <tr>\n",
              "      <th>0</th>\n",
              "      <td>5.0</td>\n",
              "      <td>0.018176</td>\n",
              "    </tr>\n",
              "    <tr>\n",
              "      <th>1</th>\n",
              "      <td>5.5</td>\n",
              "      <td>0.055136</td>\n",
              "    </tr>\n",
              "    <tr>\n",
              "      <th>2</th>\n",
              "      <td>6.0</td>\n",
              "      <td>0.038448</td>\n",
              "    </tr>\n",
              "    <tr>\n",
              "      <th>3</th>\n",
              "      <td>6.5</td>\n",
              "      <td>0.025552</td>\n",
              "    </tr>\n",
              "    <tr>\n",
              "      <th>4</th>\n",
              "      <td>7.0</td>\n",
              "      <td>0.012480</td>\n",
              "    </tr>\n",
              "  </tbody>\n",
              "</table>\n",
              "</div>\n",
              "      <button class=\"colab-df-convert\" onclick=\"convertToInteractive('df-fecee5bb-6c2f-4f76-8020-b48a530f965e')\"\n",
              "              title=\"Convert this dataframe to an interactive table.\"\n",
              "              style=\"display:none;\">\n",
              "        \n",
              "  <svg xmlns=\"http://www.w3.org/2000/svg\" height=\"24px\"viewBox=\"0 0 24 24\"\n",
              "       width=\"24px\">\n",
              "    <path d=\"M0 0h24v24H0V0z\" fill=\"none\"/>\n",
              "    <path d=\"M18.56 5.44l.94 2.06.94-2.06 2.06-.94-2.06-.94-.94-2.06-.94 2.06-2.06.94zm-11 1L8.5 8.5l.94-2.06 2.06-.94-2.06-.94L8.5 2.5l-.94 2.06-2.06.94zm10 10l.94 2.06.94-2.06 2.06-.94-2.06-.94-.94-2.06-.94 2.06-2.06.94z\"/><path d=\"M17.41 7.96l-1.37-1.37c-.4-.4-.92-.59-1.43-.59-.52 0-1.04.2-1.43.59L10.3 9.45l-7.72 7.72c-.78.78-.78 2.05 0 2.83L4 21.41c.39.39.9.59 1.41.59.51 0 1.02-.2 1.41-.59l7.78-7.78 2.81-2.81c.8-.78.8-2.07 0-2.86zM5.41 20L4 18.59l7.72-7.72 1.47 1.35L5.41 20z\"/>\n",
              "  </svg>\n",
              "      </button>\n",
              "      \n",
              "  <style>\n",
              "    .colab-df-container {\n",
              "      display:flex;\n",
              "      flex-wrap:wrap;\n",
              "      gap: 12px;\n",
              "    }\n",
              "\n",
              "    .colab-df-convert {\n",
              "      background-color: #E8F0FE;\n",
              "      border: none;\n",
              "      border-radius: 50%;\n",
              "      cursor: pointer;\n",
              "      display: none;\n",
              "      fill: #1967D2;\n",
              "      height: 32px;\n",
              "      padding: 0 0 0 0;\n",
              "      width: 32px;\n",
              "    }\n",
              "\n",
              "    .colab-df-convert:hover {\n",
              "      background-color: #E2EBFA;\n",
              "      box-shadow: 0px 1px 2px rgba(60, 64, 67, 0.3), 0px 1px 3px 1px rgba(60, 64, 67, 0.15);\n",
              "      fill: #174EA6;\n",
              "    }\n",
              "\n",
              "    [theme=dark] .colab-df-convert {\n",
              "      background-color: #3B4455;\n",
              "      fill: #D2E3FC;\n",
              "    }\n",
              "\n",
              "    [theme=dark] .colab-df-convert:hover {\n",
              "      background-color: #434B5C;\n",
              "      box-shadow: 0px 1px 3px 1px rgba(0, 0, 0, 0.15);\n",
              "      filter: drop-shadow(0px 1px 2px rgba(0, 0, 0, 0.3));\n",
              "      fill: #FFFFFF;\n",
              "    }\n",
              "  </style>\n",
              "\n",
              "      <script>\n",
              "        const buttonEl =\n",
              "          document.querySelector('#df-fecee5bb-6c2f-4f76-8020-b48a530f965e button.colab-df-convert');\n",
              "        buttonEl.style.display =\n",
              "          google.colab.kernel.accessAllowed ? 'block' : 'none';\n",
              "\n",
              "        async function convertToInteractive(key) {\n",
              "          const element = document.querySelector('#df-fecee5bb-6c2f-4f76-8020-b48a530f965e');\n",
              "          const dataTable =\n",
              "            await google.colab.kernel.invokeFunction('convertToInteractive',\n",
              "                                                     [key], {});\n",
              "          if (!dataTable) return;\n",
              "\n",
              "          const docLinkHtml = 'Like what you see? Visit the ' +\n",
              "            '<a target=\"_blank\" href=https://colab.research.google.com/notebooks/data_table.ipynb>data table notebook</a>'\n",
              "            + ' to learn more about interactive tables.';\n",
              "          element.innerHTML = '';\n",
              "          dataTable['output_type'] = 'display_data';\n",
              "          await google.colab.output.renderOutput(dataTable, element);\n",
              "          const docLink = document.createElement('div');\n",
              "          docLink.innerHTML = docLinkHtml;\n",
              "          element.appendChild(docLink);\n",
              "        }\n",
              "      </script>\n",
              "    </div>\n",
              "  </div>\n",
              "  "
            ]
          },
          "metadata": {},
          "execution_count": 1
        }
      ],
      "source": [
        "import tensorflow as tf\n",
        "import os\n",
        "import numpy as pd\n",
        "import pandas as pd\n",
        "\n",
        "\n",
        "file_location = 'https://raw.githubusercontent.com/andrewberryy/Datasets/master/throughput_scream_60_TMobileLTE.csv'\n",
        "\n",
        "first_dataset = pd.read_csv(file_location)\n",
        "\n",
        "first_dataset.head() "
      ]
    },
    {
      "cell_type": "code",
      "source": [
        "first_dataset_indexed = first_dataset.set_index(['Time'])\n",
        "#first_dataset_indexed.head()"
      ],
      "metadata": {
        "id": "cMM1dkg-k7jx"
      },
      "execution_count": 2,
      "outputs": []
    },
    {
      "cell_type": "markdown",
      "source": [],
      "metadata": {
        "id": "oZEsHf0GtNeI"
      }
    },
    {
      "cell_type": "code",
      "source": [
        "throughput = first_dataset_indexed[\"Throughput\"]\n",
        "throughput.plot()"
      ],
      "metadata": {
        "colab": {
          "base_uri": "https://localhost:8080/",
          "height": 467
        },
        "id": "L-hRAptRV0jP",
        "outputId": "b196565b-8c23-4f29-d63a-ea77f687e742"
      },
      "execution_count": 3,
      "outputs": [
        {
          "output_type": "execute_result",
          "data": {
            "text/plain": [
              "<Axes: xlabel='Time'>"
            ]
          },
          "metadata": {},
          "execution_count": 3
        },
        {
          "output_type": "display_data",
          "data": {
            "text/plain": [
              "<Figure size 640x480 with 1 Axes>"
            ],
            "image/png": "[encoded data removed]"
          },
          "metadata": {}
        }
      ]
    },
    {
      "cell_type": "code",
      "source": [
        "from sklearn.preprocessing import MinMaxScaler\n",
        "scaler = MinMaxScaler()\n",
        "first_dataset_scaled = scaler.fit_transform(first_dataset_indexed)\n"
      ],
      "metadata": {
        "id": "ByW-HZPwi1Ai"
      },
      "execution_count": 4,
      "outputs": []
    },
    {
      "cell_type": "code",
      "source": [
        "from sklearn.model_selection import train_test_split\n",
        "\n",
        "train,test = train_test_split(first_dataset_scaled, test_size = 0.10, shuffle = False)"
      ],
      "metadata": {
        "id": "Dwtzm1WF3prp"
      },
      "execution_count": 5,
      "outputs": []
    },
    {
      "cell_type": "code",
      "source": [
        "from keras.preprocessing.sequence import TimeseriesGenerator \n",
        "\n",
        "n_input = 3\n",
        "n_features = 1\n",
        "\n",
        "generatorTrain = TimeseriesGenerator(train, train, length=n_input, batch_size=2)\n",
        "generatorTest = TimeseriesGenerator(test, test, length=n_input, batch_size=1)"
      ],
      "metadata": {
        "id": "U1E27Gq64Smc"
      },
      "execution_count": 6,
      "outputs": []
    },
    {
      "cell_type": "code",
      "source": [
        "batch_0 = generatorTrain[0]\n",
        "x ,y = batch_0\n",
        "#print(x,y)"
      ],
      "metadata": {
        "id": "iUVbyu0O45fF"
      },
      "execution_count": 7,
      "outputs": []
    },
    {
      "cell_type": "code",
      "source": [
        "#number of samples\n",
        "print(\"Samples: %d\" % len(generatorTrain))\n",
        "#print each sample\n",
        "for i in range(len(generatorTrain)):\n",
        "  x, y = generatorTrain[i]\n",
        "  #print('%s => %s' % (x , y))"
      ],
      "metadata": {
        "colab": {
          "base_uri": "https://localhost:8080/"
        },
        "id": "1mqLa7PcjRuI",
        "outputId": "a43a7d71-7679-4878-fddc-0f7d71b4503f"
      },
      "execution_count": 8,
      "outputs": [
        {
          "output_type": "stream",
          "name": "stdout",
          "text": [
            "Samples: 53\n"
          ]
        }
      ]
    },
    {
      "cell_type": "code",
      "source": [
        "from keras.models import Sequential \n",
        "from keras.layers import Dense\n",
        "from keras.layers import LSTM "
      ],
      "metadata": {
        "id": "0O6u8Qkb5xWE"
      },
      "execution_count": 9,
      "outputs": []
    },
    {
      "cell_type": "code",
      "source": [
        "\n",
        "# create and fit the LSTM network\n",
        "model = Sequential()\n",
        "#arctan sigmoid activation\n",
        "#try differnet dropouts\n",
        "#grid search \n",
        "model.add(LSTM(300, activation = 'sigmoid',input_shape=(n_input, n_features)))\n",
        "model.add(Dense(1))\n",
        "# soft max label\n",
        "model.summary()"
      ],
      "metadata": {
        "id": "AB20bgyC57Fd",
        "colab": {
          "base_uri": "https://localhost:8080/"
        },
        "outputId": "01a13aad-ef1b-4cf5-f377-1488199b349a"
      },
      "execution_count": 10,
      "outputs": [
        {
          "output_type": "stream",
          "name": "stdout",
          "text": [
            "Model: \"sequential\"\n",
            "_________________________________________________________________\n",
            " Layer (type)                Output Shape              Param #   \n",
            "=================================================================\n",
            " lstm (LSTM)                 (None, 300)               362400    \n",
            "                                                                 \n",
            " dense (Dense)               (None, 1)                 301       \n",
            "                                                                 \n",
            "=================================================================\n",
            "Total params: 362,701\n",
            "Trainable params: 362,701\n",
            "Non-trainable params: 0\n",
            "_________________________________________________________________\n"
          ]
        }
      ]
    },
    {
      "cell_type": "code",
      "source": [
        "model.compile(optimizer='adam',loss='mse')\n",
        "model.fit(generatorTrain, epochs=100, batch_size=15, shuffle=False)\n"
      ],
      "metadata": {
        "colab": {
          "base_uri": "https://localhost:8080/"
        },
        "id": "wPqi3qBBRNkn",
        "outputId": "3c7845ba-25c8-4b4e-a7d3-c4271f3e9f21"
      },
      "execution_count": 11,
      "outputs": [
        {
          "output_type": "stream",
          "name": "stdout",
          "text": [
            "Epoch 1/100\n",
            "53/53 [==============================] - 3s 20ms/step - loss: 0.0166\n",
            "Epoch 2/100\n",
            "53/53 [==============================] - 1s 20ms/step - loss: 0.0081\n",
            "Epoch 3/100\n",
            "53/53 [==============================] - 1s 14ms/step - loss: 0.0079\n",
            "Epoch 4/100\n",
            "53/53 [==============================] - 1s 14ms/step - loss: 0.0082\n",
            "Epoch 5/100\n",
            "53/53 [==============================] - 1s 13ms/step - loss: 0.0081\n",
            "Epoch 6/100\n",
            "53/53 [==============================] - 1s 14ms/step - loss: 0.0079\n",
            "Epoch 7/100\n",
            "53/53 [==============================] - 1s 13ms/step - loss: 0.0076\n",
            "Epoch 8/100\n",
            "53/53 [==============================] - 1s 14ms/step - loss: 0.0074\n",
            "Epoch 9/100\n",
            "53/53 [==============================] - 1s 13ms/step - loss: 0.0072\n",
            "Epoch 10/100\n",
            "53/53 [==============================] - 1s 14ms/step - loss: 0.0071\n",
            "Epoch 11/100\n",
            "53/53 [==============================] - 1s 14ms/step - loss: 0.0070\n",
            "Epoch 12/100\n",
            "53/53 [==============================] - 1s 13ms/step - loss: 0.0069\n",
            "Epoch 13/100\n",
            "53/53 [==============================] - 1s 18ms/step - loss: 0.0068\n",
            "Epoch 14/100\n",
            "53/53 [==============================] - 1s 20ms/step - loss: 0.0068\n",
            "Epoch 15/100\n",
            "53/53 [==============================] - 1s 16ms/step - loss: 0.0068\n",
            "Epoch 16/100\n",
            "53/53 [==============================] - 1s 14ms/step - loss: 0.0067\n",
            "Epoch 17/100\n",
            "53/53 [==============================] - 1s 13ms/step - loss: 0.0066\n",
            "Epoch 18/100\n",
            "53/53 [==============================] - 1s 14ms/step - loss: 0.0065\n",
            "Epoch 19/100\n",
            "53/53 [==============================] - 1s 14ms/step - loss: 0.0063\n",
            "Epoch 20/100\n",
            "53/53 [==============================] - 1s 14ms/step - loss: 0.0062\n",
            "Epoch 21/100\n",
            "53/53 [==============================] - 1s 14ms/step - loss: 0.0061\n",
            "Epoch 22/100\n",
            "53/53 [==============================] - 1s 13ms/step - loss: 0.0060\n",
            "Epoch 23/100\n",
            "53/53 [==============================] - 1s 13ms/step - loss: 0.0059\n",
            "Epoch 24/100\n",
            "53/53 [==============================] - 1s 13ms/step - loss: 0.0058\n",
            "Epoch 25/100\n",
            "53/53 [==============================] - 1s 14ms/step - loss: 0.0057\n",
            "Epoch 26/100\n",
            "53/53 [==============================] - 1s 17ms/step - loss: 0.0056\n",
            "Epoch 27/100\n",
            "53/53 [==============================] - 1s 19ms/step - loss: 0.0056\n",
            "Epoch 28/100\n",
            "53/53 [==============================] - 1s 17ms/step - loss: 0.0055\n",
            "Epoch 29/100\n",
            "53/53 [==============================] - 1s 19ms/step - loss: 0.0054\n",
            "Epoch 30/100\n",
            "53/53 [==============================] - 1s 13ms/step - loss: 0.0054\n",
            "Epoch 31/100\n",
            "53/53 [==============================] - 1s 13ms/step - loss: 0.0053\n",
            "Epoch 32/100\n",
            "53/53 [==============================] - 1s 14ms/step - loss: 0.0052\n",
            "Epoch 33/100\n",
            "53/53 [==============================] - 1s 13ms/step - loss: 0.0052\n",
            "Epoch 34/100\n",
            "53/53 [==============================] - 1s 14ms/step - loss: 0.0051\n",
            "Epoch 35/100\n",
            "53/53 [==============================] - 1s 14ms/step - loss: 0.0051\n",
            "Epoch 36/100\n",
            "53/53 [==============================] - 1s 13ms/step - loss: 0.0050\n",
            "Epoch 37/100\n",
            "53/53 [==============================] - 1s 13ms/step - loss: 0.0050\n",
            "Epoch 38/100\n",
            "53/53 [==============================] - 1s 19ms/step - loss: 0.0049\n",
            "Epoch 39/100\n",
            "53/53 [==============================] - 1s 21ms/step - loss: 0.0049\n",
            "Epoch 40/100\n",
            "53/53 [==============================] - 1s 19ms/step - loss: 0.0049\n",
            "Epoch 41/100\n",
            "53/53 [==============================] - 1s 13ms/step - loss: 0.0048\n",
            "Epoch 42/100\n",
            "53/53 [==============================] - 1s 13ms/step - loss: 0.0048\n",
            "Epoch 43/100\n",
            "53/53 [==============================] - 1s 14ms/step - loss: 0.0048\n",
            "Epoch 44/100\n",
            "53/53 [==============================] - 1s 14ms/step - loss: 0.0047\n",
            "Epoch 45/100\n",
            "53/53 [==============================] - 1s 14ms/step - loss: 0.0047\n",
            "Epoch 46/100\n",
            "53/53 [==============================] - 1s 13ms/step - loss: 0.0047\n",
            "Epoch 47/100\n",
            "53/53 [==============================] - 1s 13ms/step - loss: 0.0047\n",
            "Epoch 48/100\n",
            "53/53 [==============================] - 1s 13ms/step - loss: 0.0047\n",
            "Epoch 49/100\n",
            "53/53 [==============================] - 1s 14ms/step - loss: 0.0046\n",
            "Epoch 50/100\n",
            "53/53 [==============================] - 1s 15ms/step - loss: 0.0046\n",
            "Epoch 51/100\n",
            "53/53 [==============================] - 1s 21ms/step - loss: 0.0046\n",
            "Epoch 52/100\n",
            "53/53 [==============================] - 1s 20ms/step - loss: 0.0046\n",
            "Epoch 53/100\n",
            "53/53 [==============================] - 1s 13ms/step - loss: 0.0046\n",
            "Epoch 54/100\n",
            "53/53 [==============================] - 1s 14ms/step - loss: 0.0046\n",
            "Epoch 55/100\n",
            "53/53 [==============================] - 1s 19ms/step - loss: 0.0046\n",
            "Epoch 56/100\n",
            "53/53 [==============================] - 1s 19ms/step - loss: 0.0045\n",
            "Epoch 57/100\n",
            "53/53 [==============================] - 1s 20ms/step - loss: 0.0045\n",
            "Epoch 58/100\n",
            "53/53 [==============================] - 1s 27ms/step - loss: 0.0045\n",
            "Epoch 59/100\n",
            "53/53 [==============================] - 1s 13ms/step - loss: 0.0045\n",
            "Epoch 60/100\n",
            "53/53 [==============================] - 1s 14ms/step - loss: 0.0045\n",
            "Epoch 61/100\n",
            "53/53 [==============================] - 1s 18ms/step - loss: 0.0045\n",
            "Epoch 62/100\n",
            "53/53 [==============================] - 1s 21ms/step - loss: 0.0045\n",
            "Epoch 63/100\n",
            "53/53 [==============================] - 1s 20ms/step - loss: 0.0045\n",
            "Epoch 64/100\n",
            "53/53 [==============================] - 1s 16ms/step - loss: 0.0045\n",
            "Epoch 65/100\n",
            "53/53 [==============================] - 1s 14ms/step - loss: 0.0045\n",
            "Epoch 66/100\n",
            "53/53 [==============================] - 1s 15ms/step - loss: 0.0045\n",
            "Epoch 67/100\n",
            "53/53 [==============================] - 1s 14ms/step - loss: 0.0045\n",
            "Epoch 68/100\n",
            "53/53 [==============================] - 1s 14ms/step - loss: 0.0045\n",
            "Epoch 69/100\n",
            "53/53 [==============================] - 1s 14ms/step - loss: 0.0045\n",
            "Epoch 70/100\n",
            "53/53 [==============================] - 1s 14ms/step - loss: 0.0044\n",
            "Epoch 71/100\n",
            "53/53 [==============================] - 1s 13ms/step - loss: 0.0044\n",
            "Epoch 72/100\n",
            "53/53 [==============================] - 1s 13ms/step - loss: 0.0044\n",
            "Epoch 73/100\n",
            "53/53 [==============================] - 1s 20ms/step - loss: 0.0044\n",
            "Epoch 74/100\n",
            "53/53 [==============================] - 1s 20ms/step - loss: 0.0044\n",
            "Epoch 75/100\n",
            "53/53 [==============================] - 1s 16ms/step - loss: 0.0044\n",
            "Epoch 76/100\n",
            "53/53 [==============================] - 1s 15ms/step - loss: 0.0044\n",
            "Epoch 77/100\n",
            "53/53 [==============================] - 1s 15ms/step - loss: 0.0044\n",
            "Epoch 78/100\n",
            "53/53 [==============================] - 1s 14ms/step - loss: 0.0044\n",
            "Epoch 79/100\n",
            "53/53 [==============================] - 1s 14ms/step - loss: 0.0044\n",
            "Epoch 80/100\n",
            "53/53 [==============================] - 1s 14ms/step - loss: 0.0044\n",
            "Epoch 81/100\n",
            "53/53 [==============================] - 1s 13ms/step - loss: 0.0044\n",
            "Epoch 82/100\n",
            "53/53 [==============================] - 1s 14ms/step - loss: 0.0044\n",
            "Epoch 83/100\n",
            "53/53 [==============================] - 1s 15ms/step - loss: 0.0044\n",
            "Epoch 84/100\n",
            "53/53 [==============================] - 1s 21ms/step - loss: 0.0044\n",
            "Epoch 85/100\n",
            "53/53 [==============================] - 1s 26ms/step - loss: 0.0045\n",
            "Epoch 86/100\n",
            "53/53 [==============================] - 1s 13ms/step - loss: 0.0045\n",
            "Epoch 87/100\n",
            "53/53 [==============================] - 1s 14ms/step - loss: 0.0045\n",
            "Epoch 88/100\n",
            "53/53 [==============================] - 1s 14ms/step - loss: 0.0045\n",
            "Epoch 89/100\n",
            "53/53 [==============================] - 1s 14ms/step - loss: 0.0045\n",
            "Epoch 90/100\n",
            "53/53 [==============================] - 1s 14ms/step - loss: 0.0045\n",
            "Epoch 91/100\n",
            "53/53 [==============================] - 1s 14ms/step - loss: 0.0045\n",
            "Epoch 92/100\n",
            "53/53 [==============================] - 1s 13ms/step - loss: 0.0045\n",
            "Epoch 93/100\n",
            "53/53 [==============================] - 1s 14ms/step - loss: 0.0045\n",
            "Epoch 94/100\n",
            "53/53 [==============================] - 1s 22ms/step - loss: 0.0045\n",
            "Epoch 95/100\n",
            "53/53 [==============================] - 1s 21ms/step - loss: 0.0045\n",
            "Epoch 96/100\n",
            "53/53 [==============================] - 1s 17ms/step - loss: 0.0045\n",
            "Epoch 97/100\n",
            "53/53 [==============================] - 1s 14ms/step - loss: 0.0045\n",
            "Epoch 98/100\n",
            "53/53 [==============================] - 1s 14ms/step - loss: 0.0045\n",
            "Epoch 99/100\n",
            "53/53 [==============================] - 1s 15ms/step - loss: 0.0045\n",
            "Epoch 100/100\n",
            "53/53 [==============================] - 1s 14ms/step - loss: 0.0045\n"
          ]
        },
        {
          "output_type": "execute_result",
          "data": {
            "text/plain": [
              "<keras.callbacks.History at 0x7f74f0166e80>"
            ]
          },
          "metadata": {},
          "execution_count": 11
        }
      ]
    },
    {
      "cell_type": "code",
      "source": [
        "import numpy as np\n",
        "\n",
        "predictions = []\n",
        "\n",
        "first_batch = train[-n_input:]\n",
        "current_batch = first_batch.reshape((1, n_input, n_features))\n",
        "#print(current_batch)\n",
        "\n",
        "for i in range(len(test)):\n",
        "  #get the prediction value for first\n",
        "  current_pred = model.predict(current_batch)[0]\n",
        "\n",
        "  #append the prediction into array\n",
        "  predictions.append(current_pred)\n",
        "\n",
        "  #remove the first value\n",
        "  current_batch_rmv_frist = current_batch[:,1:,:]\n",
        "  #update the batch\n",
        "  current_batch = np.append(current_batch_rmv_frist,[[current_pred]],axis=1)\n",
        "\n",
        "#print([i[0] for i in predictions])\n"
      ],
      "metadata": {
        "colab": {
          "base_uri": "https://localhost:8080/"
        },
        "id": "TBtcF0D37Kfq",
        "outputId": "05580497-cf02-4638-bce6-befa1637d23e"
      },
      "execution_count": 12,
      "outputs": [
        {
          "output_type": "stream",
          "name": "stdout",
          "text": [
            "1/1 [==============================] - 0s 357ms/step\n",
            "1/1 [==============================] - 0s 34ms/step\n",
            "1/1 [==============================] - 0s 35ms/step\n",
            "1/1 [==============================] - 0s 37ms/step\n",
            "1/1 [==============================] - 0s 35ms/step\n",
            "1/1 [==============================] - 0s 34ms/step\n",
            "1/1 [==============================] - 0s 65ms/step\n",
            "1/1 [==============================] - 0s 37ms/step\n",
            "1/1 [==============================] - 0s 37ms/step\n",
            "1/1 [==============================] - 0s 35ms/step\n",
            "1/1 [==============================] - 0s 34ms/step\n",
            "1/1 [==============================] - 0s 43ms/step\n",
            "1/1 [==============================] - 0s 39ms/step\n"
          ]
        }
      ]
    },
    {
      "cell_type": "code",
      "source": [
        "import matplotlib.pyplot as plt\n",
        "\n",
        "predictions_actual_size = scaler.inverse_transform(predictions)\n",
        "test_data_actual_scale = scaler.inverse_transform(test)\n",
        "\n",
        "plt.plot(predictions_actual_size)\n",
        "plt.plot(test_data_actual_scale)"
      ],
      "metadata": {
        "colab": {
          "base_uri": "https://localhost:8080/",
          "height": 448
        },
        "id": "cMICSeFN8qLk",
        "outputId": "ff4f2ea0-c315-4fc8-b8ed-0694a0d0f44a"
      },
      "execution_count": 13,
      "outputs": [
        {
          "output_type": "execute_result",
          "data": {
            "text/plain": [
              "[<matplotlib.lines.Line2D at 0x7f74f0944790>]"
            ]
          },
          "metadata": {},
          "execution_count": 13
        },
        {
          "output_type": "display_data",
          "data": {
            "text/plain": [
              "<Figure size 640x480 with 1 Axes>"
            ],
            "image/png": "[encoded data removed]"
          },
          "metadata": {}
        }
      ]
    },
    {
      "cell_type": "code",
      "source": [],
      "metadata": {
        "id": "mUdLsa8PrvFS"
      },
      "execution_count": null,
      "outputs": []
    },
    {
      "cell_type": "code",
      "source": [
        "from sklearn.metrics import accuracy_score, mean_squared_error\n",
        "\n",
        "mean_squared_error(test,predictions)\n",
        "acuracy_score(test,predictions)"
      ],
      "metadata": {
        "colab": {
          "base_uri": "https://localhost:8080/",
          "height": 222
        },
        "id": "AU4Bu39HctgD",
        "outputId": "4f081355-8fd0-4b13-a862-aab5487be5b3"
      },
      "execution_count": null,
      "outputs": [
        {
          "output_type": "error",
          "ename": "NameError",
          "evalue": "ignored",
          "traceback": [
            "\u001b[0;31m---------------------------------------------------------------------------\u001b[0m",
            "\u001b[0;31mNameError\u001b[0m                                 Traceback (most recent call last)",
            "\u001b[0;32m<ipython-input-1-aee56a15ab91>\u001b[0m in \u001b[0;36m<cell line: 3>\u001b[0;34m()\u001b[0m\n\u001b[1;32m      1\u001b[0m \u001b[0;32mfrom\u001b[0m \u001b[0msklearn\u001b[0m\u001b[0;34m.\u001b[0m\u001b[0mmetrics\u001b[0m \u001b[0;32mimport\u001b[0m \u001b[0maccuracy_score\u001b[0m\u001b[0;34m,\u001b[0m \u001b[0mmean_squared_error\u001b[0m\u001b[0;34m\u001b[0m\u001b[0;34m\u001b[0m\u001b[0m\n\u001b[1;32m      2\u001b[0m \u001b[0;34m\u001b[0m\u001b[0m\n\u001b[0;32m----> 3\u001b[0;31m \u001b[0mmean_squared_error\u001b[0m\u001b[0;34m(\u001b[0m\u001b[0mtest\u001b[0m\u001b[0;34m,\u001b[0m\u001b[0mpredictions\u001b[0m\u001b[0;34m)\u001b[0m\u001b[0;34m\u001b[0m\u001b[0;34m\u001b[0m\u001b[0m\n\u001b[0m\u001b[1;32m      4\u001b[0m \u001b[0macuracy_score\u001b[0m\u001b[0;34m(\u001b[0m\u001b[0mtest\u001b[0m\u001b[0;34m,\u001b[0m\u001b[0mpredictions\u001b[0m\u001b[0;34m)\u001b[0m\u001b[0;34m\u001b[0m\u001b[0;34m\u001b[0m\u001b[0m\n",
            "\u001b[0;31mNameError\u001b[0m: name 'test' is not defined"
          ]
        }
      ]
    },
    {
      "cell_type": "code",
      "source": [
        "import pickle\n",
        "\n",
        "#save\n",
        "with open('VanillaEpoch300.pkl','wb') as f:\n",
        "  pickle.dump(model,f)"
      ],
      "metadata": {
        "id": "mZ51Lwgbty_Q"
      },
      "execution_count": null,
      "outputs": []
    }
  ]
}